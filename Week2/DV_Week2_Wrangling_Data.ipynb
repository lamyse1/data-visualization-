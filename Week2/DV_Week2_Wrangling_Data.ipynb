{
  "nbformat": 4,
  "nbformat_minor": 0,
  "metadata": {
    "colab": {
      "provenance": [],
      "authorship_tag": "ABX9TyMtBBed7Cm9uwxJUnh648dW",
      "include_colab_link": true
    },
    "kernelspec": {
      "name": "python3",
      "display_name": "Python 3"
    },
    "language_info": {
      "name": "python"
    }
  },
  "cells": [
    {
      "cell_type": "markdown",
      "metadata": {
        "id": "view-in-github",
        "colab_type": "text"
      },
      "source": [
        "<a href=\"https://colab.research.google.com/github/lamyse1/data-visualization-/blob/main/Week2/DV_Week2_Wrangling_Data.ipynb\" target=\"_parent\"><img src=\"https://colab.research.google.com/assets/colab-badge.svg\" alt=\"Open In Colab\"/></a>"
      ]
    },
    {
      "cell_type": "code",
      "source": [
        "pip install pandas openpyxl"
      ],
      "metadata": {
        "colab": {
          "base_uri": "https://localhost:8080/"
        },
        "id": "g6JdYA5Ygfew",
        "outputId": "4eaa4710-64b4-4462-f75e-61f32f01ac0a"
      },
      "execution_count": 3,
      "outputs": [
        {
          "output_type": "stream",
          "name": "stdout",
          "text": [
            "Requirement already satisfied: pandas in /usr/local/lib/python3.11/dist-packages (2.2.2)\n",
            "Requirement already satisfied: openpyxl in /usr/local/lib/python3.11/dist-packages (3.1.5)\n",
            "Requirement already satisfied: numpy>=1.23.2 in /usr/local/lib/python3.11/dist-packages (from pandas) (1.26.4)\n",
            "Requirement already satisfied: python-dateutil>=2.8.2 in /usr/local/lib/python3.11/dist-packages (from pandas) (2.8.2)\n",
            "Requirement already satisfied: pytz>=2020.1 in /usr/local/lib/python3.11/dist-packages (from pandas) (2025.1)\n",
            "Requirement already satisfied: tzdata>=2022.7 in /usr/local/lib/python3.11/dist-packages (from pandas) (2025.1)\n",
            "Requirement already satisfied: et-xmlfile in /usr/local/lib/python3.11/dist-packages (from openpyxl) (2.0.0)\n",
            "Requirement already satisfied: six>=1.5 in /usr/local/lib/python3.11/dist-packages (from python-dateutil>=2.8.2->pandas) (1.17.0)\n"
          ]
        }
      ]
    },
    {
      "cell_type": "code",
      "execution_count": 20,
      "metadata": {
        "id": "-sah3aV7gJLp"
      },
      "outputs": [],
      "source": [
        "import pandas as pd\n",
        "\n",
        "# GitHub URL of the Excel file\n",
        "url = 'https://github.com/lamyse1/data-visualization-/raw/main/CountryExpenditures_WideFormat.xlsx'\n",
        "\n",
        "# Load the Excel file into a DataFrame\n",
        "Country_expenditures = pd.read_excel(url)\n"
      ]
    },
    {
      "cell_type": "code",
      "source": [
        "print(Country_expenditures.head())"
      ],
      "metadata": {
        "colab": {
          "base_uri": "https://localhost:8080/"
        },
        "id": "uPeIVkU_lJfA",
        "outputId": "8eaeda16-64d2-487f-a7ae-d85692dd5620"
      },
      "execution_count": 21,
      "outputs": [
        {
          "output_type": "stream",
          "name": "stdout",
          "text": [
            "     Country                                  Currency          2000  \\\n",
            "0    Albania                                       lek  4.450368e+11   \n",
            "1  Argentina  Argentine peso                            2.287145e+11   \n",
            "2    Armenia                                      dram  1.155662e+12   \n",
            "3  Australia                    Australian dollar       5.550611e+11   \n",
            "4    Austria                      1999 ATS euro / euro  1.528422e+11   \n",
            "\n",
            "           2001          2002          2003          2004          2005  \\\n",
            "0  4.530368e+11  5.065492e+11  5.857186e+11  6.520187e+11  6.920364e+11   \n",
            "1  2.169192e+11  1.890872e+11  2.022649e+11  2.191523e+11  2.377193e+11   \n",
            "2  1.222824e+12  1.338673e+12  1.449336e+12  1.630638e+12  1.893991e+12   \n",
            "3  5.803187e+11  6.013527e+11  6.480715e+11  6.855503e+11  7.114785e+11   \n",
            "4  1.536993e+11  1.545295e+11  1.564505e+11  1.644941e+11  1.678004e+11   \n",
            "\n",
            "           2006          2007  \n",
            "0           NaN           NaN  \n",
            "1  2.552467e+11           NaN  \n",
            "2  2.031747e+12  2.484905e+12  \n",
            "3  7.482680e+11           NaN  \n",
            "4  1.713220e+11  1.741800e+11  \n"
          ]
        }
      ]
    },
    {
      "cell_type": "code",
      "source": [
        "# Transform data from wide to long format (including 'Currency' column)\n",
        "Country_expenditures_long = pd.melt(Country_expenditures, id_vars=['Country', 'Currency'], var_name='Year', value_name='Expenditure')\n",
        "\n",
        "# Drop NaN values\n",
        "Country_expenditures_long = Country_expenditures_long.dropna()\n",
        "\n",
        "# Display transformed data\n",
        "print(Country_expenditures_long.head())\n",
        "\n",
        "\n"
      ],
      "metadata": {
        "colab": {
          "base_uri": "https://localhost:8080/"
        },
        "id": "4ZoelUNdoBaQ",
        "outputId": "742070c7-50e7-4163-c594-ac92f3c14b47"
      },
      "execution_count": 23,
      "outputs": [
        {
          "output_type": "stream",
          "name": "stdout",
          "text": [
            "     Country                                  Currency  Year   Expenditure\n",
            "0    Albania                                       lek  2000  4.450368e+11\n",
            "1  Argentina  Argentine peso                            2000  2.287145e+11\n",
            "2    Armenia                                      dram  2000  1.155662e+12\n",
            "3  Australia                    Australian dollar       2000  5.550611e+11\n",
            "4    Austria                      1999 ATS euro / euro  2000  1.528422e+11\n"
          ]
        }
      ]
    },
    {
      "cell_type": "code",
      "source": [
        "# Sort values by 'Country' and 'Year'\n",
        "Country_expenditures_long.sort_values(by=['Country', 'Year'], inplace=True)\n",
        "\n",
        "# Save the transformed data to an Excel file\n",
        "Country_expenditures_long.to_excel('CountryExpenditures_LongFormat.xlsx', index=False)"
      ],
      "metadata": {
        "id": "_jbD_GbWpoO5"
      },
      "execution_count": 24,
      "outputs": []
    }
  ]
}